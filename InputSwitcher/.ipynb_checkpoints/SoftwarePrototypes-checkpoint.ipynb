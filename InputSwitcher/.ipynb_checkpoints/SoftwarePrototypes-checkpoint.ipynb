{
 "cells": [
  {
   "cell_type": "markdown",
   "id": "2db1d234",
   "metadata": {},
   "source": [
    "# Import Required Libraries\n",
    "This section imports the necessary libraries for creating UI prototypes, including visualization and image manipulation tools."
   ]
  },
  {
   "cell_type": "code",
   "id": "61964231",
   "metadata": {
    "ExecuteTime": {
     "end_time": "2025-05-25T16:12:35.473567Z",
     "start_time": "2025-05-25T16:12:35.200149Z"
    }
   },
   "source": [
    "import matplotlib.pyplot as plt\n",
    "from PIL import Image, ImageDraw\n",
    "import os"
   ],
   "outputs": [
    {
     "ename": "ModuleNotFoundError",
     "evalue": "No module named 'matplotlib'",
     "output_type": "error",
     "traceback": [
      "\u001B[31m---------------------------------------------------------------------------\u001B[39m",
      "\u001B[31mModuleNotFoundError\u001B[39m                       Traceback (most recent call last)",
      "\u001B[36mCell\u001B[39m\u001B[36m \u001B[39m\u001B[32mIn[1]\u001B[39m\u001B[32m, line 1\u001B[39m\n\u001B[32m----> \u001B[39m\u001B[32m1\u001B[39m \u001B[38;5;28;01mimport\u001B[39;00m\u001B[38;5;250m \u001B[39m\u001B[34;01mmatplotlib\u001B[39;00m\u001B[34;01m.\u001B[39;00m\u001B[34;01mpyplot\u001B[39;00m\u001B[38;5;250m \u001B[39m\u001B[38;5;28;01mas\u001B[39;00m\u001B[38;5;250m \u001B[39m\u001B[34;01mplt\u001B[39;00m\n\u001B[32m      2\u001B[39m \u001B[38;5;28;01mfrom\u001B[39;00m\u001B[38;5;250m \u001B[39m\u001B[34;01mPIL\u001B[39;00m\u001B[38;5;250m \u001B[39m\u001B[38;5;28;01mimport\u001B[39;00m Image, ImageDraw\n\u001B[32m      3\u001B[39m \u001B[38;5;28;01mimport\u001B[39;00m\u001B[38;5;250m \u001B[39m\u001B[34;01mos\u001B[39;00m\n",
      "\u001B[31mModuleNotFoundError\u001B[39m: No module named 'matplotlib'"
     ]
    }
   ],
   "execution_count": 1
  },
  {
   "cell_type": "markdown",
   "id": "7e5c64da",
   "metadata": {},
   "source": [
    "# Define UI Components\n",
    "This section defines reusable UI components such as buttons, toggles, and labels to be used in the wireframes."
   ]
  },
  {
   "cell_type": "code",
   "execution_count": null,
   "id": "04632b35",
   "metadata": {},
   "outputs": [],
   "source": [
    "def draw_button(draw, position, text):\n",
    "    x, y, w, h = position\n",
    "    draw.rectangle([x, y, x + w, y + h], fill=\"lightgray\", outline=\"black\")\n",
    "    draw.text((x + w / 2, y + h / 2), text, fill=\"black\", anchor=\"mm\")\n",
    "\n",
    "def draw_toggle(draw, position, state):\n",
    "    x, y, w, h = position\n",
    "    draw.rectangle([x, y, x + w, y + h], fill=\"green\" if state else \"red\", outline=\"black\")\n",
    "    draw.text((x + w / 2, y + h / 2), \"ON\" if state else \"OFF\", fill=\"white\", anchor=\"mm\")\n",
    "\n",
    "def draw_label(draw, position, text):\n",
    "    x, y = position\n",
    "    draw.text((x, y), text, fill=\"black\")"
   ]
  },
  {
   "cell_type": "markdown",
   "id": "d288ee76",
   "metadata": {},
   "source": [
    "# Create Wireframes for Each Interface\n",
    "This section uses the defined components to create wireframes for each interface, including '界面设置', '应用程序管理', '权限管理', '启动设置', and '帮助与反馈'."
   ]
  },
  {
   "cell_type": "code",
   "execution_count": null,
   "id": "450ff928",
   "metadata": {},
   "outputs": [],
   "source": [
    "def create_wireframe(interface_name, components):\n",
    "    width, height = 400, 300\n",
    "    image = Image.new(\"RGB\", (width, height), \"white\")\n",
    "    draw = ImageDraw.Draw(image)\n",
    "\n",
    "    draw_label(draw, (10, 10), interface_name)\n",
    "\n",
    "    y_offset = 50\n",
    "    for component in components:\n",
    "        if component[\"type\"] == \"button\":\n",
    "            draw_button(draw, (10, y_offset, 100, 30), component[\"text\"])\n",
    "        elif component[\"type\"] == \"toggle\":\n",
    "            draw_toggle(draw, (10, y_offset, 100, 30), component[\"state\"])\n",
    "        elif component[\"type\"] == \"label\":\n",
    "            draw_label(draw, (10, y_offset), component[\"text\"])\n",
    "        y_offset += 40\n",
    "\n",
    "    return image\n",
    "\n",
    "interfaces = {\n",
    "    \"界面设置\": [\n",
    "        {\"type\": \"toggle\", \"state\": True, \"text\": \"隐藏 Dock 栏图标\"},\n",
    "        {\"type\": \"toggle\", \"state\": False, \"text\": \"在菜单栏显示\"}\n",
    "    ],\n",
    "    \"应用程序管理\": [\n",
    "        {\"type\": \"button\", \"text\": \"移动到应用程序文件夹\"}\n",
    "    ],\n",
    "    \"权限管理\": [\n",
    "        {\"type\": \"label\", \"text\": \"辅助功能权限\"},\n",
    "        {\"type\": \"button\", \"text\": \"手动申请\"}\n",
    "    ],\n",
    "    \"启动设置\": [\n",
    "        {\"type\": \"toggle\", \"state\": True, \"text\": \"开机自动启动\"},\n",
    "        {\"type\": \"toggle\", \"state\": False, \"text\": \"启动时自动检测权限\"}\n",
    "    ],\n",
    "    \"帮助与反馈\": [\n",
    "        {\"type\": \"button\", \"text\": \"联系开发者\"},\n",
    "        {\"type\": \"button\", \"text\": \"访问官网\"}\n",
    "    ]\n",
    "}\n",
    "\n",
    "for name, components in interfaces.items():\n",
    "    wireframe = create_wireframe(name, components)\n",
    "    wireframe.show()"
   ]
  },
  {
   "cell_type": "markdown",
   "id": "c92d4c41",
   "metadata": {},
   "source": [
    "# Export Prototypes\n",
    "This section saves the generated wireframes as image files for further use or sharing."
   ]
  },
  {
   "cell_type": "code",
   "execution_count": null,
   "id": "c8afced5",
   "metadata": {},
   "outputs": [],
   "source": [
    "output_dir = \"wireframes\"\n",
    "os.makedirs(output_dir, exist_ok=True)\n",
    "\n",
    "for name, components in interfaces.items():\n",
    "    wireframe = create_wireframe(name, components)\n",
    "    file_path = os.path.join(output_dir, f\"{name}.png\")\n",
    "    wireframe.save(file_path)\n",
    "    print(f\"Saved wireframe for {name} at {file_path}\")"
   ]
  }
 ],
 "metadata": {
  "kernelspec": {
   "display_name": ".venv",
   "language": "python",
   "name": "python3"
  },
  "language_info": {
   "codemirror_mode": {
    "name": "ipython",
    "version": 3
   },
   "file_extension": ".py",
   "mimetype": "text/x-python",
   "name": "python",
   "nbconvert_exporter": "python",
   "pygments_lexer": "ipython3",
   "version": "3.13.2"
  }
 },
 "nbformat": 4,
 "nbformat_minor": 5
}
